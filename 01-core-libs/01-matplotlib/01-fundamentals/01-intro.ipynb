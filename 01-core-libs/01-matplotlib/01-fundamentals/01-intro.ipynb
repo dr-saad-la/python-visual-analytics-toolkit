{
 "cells": [
  {
   "cell_type": "code",
   "execution_count": 1,
   "id": "0d4fe520-5bbd-4960-918d-2f6666d8d0f6",
   "metadata": {},
   "outputs": [],
   "source": [
    "# ========================================================================\n",
    "#                   Python Data Visualization Mastery\n",
    "# ========================================================================\n",
    "#    Module: Matplotlib - Introduction\n",
    "#    Topic: Getting Started with Matplotlib\n",
    "#    \n",
    "#    Description:\n",
    "#    This notebook introduces Matplotlib, the foundational data visualization\n",
    "#    library in Python. It covers the library's architecture, key concepts,\n",
    "#    installation, versions, and basic setup. This is the first in a series\n",
    "#    of notebooks exploring Matplotlib's capabilities.\n",
    "#    \n",
    "#    Contents:\n",
    "#    1. What is Matplotlib?\n",
    "#    2. Installation and Dependencies\n",
    "#    3. Library Architecture Overview\n",
    "#    4. Pyplot vs Object-Oriented Interfaces\n",
    "#    5. Version History and Compatibility Notes\n",
    "#    \n",
    "#    Author: Dr. Saad Laouadi\n",
    "#    Date: February 2025\n",
    "#    Version: 1.0\n",
    "#    \n",
    "# ========================================================================\n",
    "#  ®Copyright Dr. Saad Laouadi, 2025. All rights reserved.\n",
    "# ========================================================================"
   ]
  },
  {
   "cell_type": "code",
   "execution_count": 2,
   "id": "a0655fa6-92a0-49c3-b793-90822586394d",
   "metadata": {
    "tags": []
   },
   "outputs": [],
   "source": [
    "# Import necessary libraries for demonstration\n",
    "import matplotlib\n",
    "import numpy as np"
   ]
  },
  {
   "cell_type": "markdown",
   "id": "4be9ed84-e8db-4e2f-a295-0feaf63b6b4b",
   "metadata": {},
   "source": [
    "<h2 style=\"face:gotham;color:purple\">What is Matplotlib?</h2> \n",
    "\n",
    "**Matplotlib** is a comprehensive library for creating static, animated, and interactive visualizations in Python. It was developed by John D. Hunter in 2003 as a way to provide MATLAB-like plotting capabilities in Python.\n",
    "\n",
    "### Key Features of Matplotlib:\n",
    "\n",
    "- **Versatility**: Creates publication-quality figures in various formats\n",
    "- **Control**: Offers fine-grained control over every aspect of a visualization\n",
    "- **Customization**: Highly customizable with styles, colors, and formats\n",
    "- **Integration**: Works well with NumPy, Pandas, and other scientific Python libraries\n",
    "- **Backends**: Supports multiple output formats and display environments\n",
    "- **Extensions**: Forms the foundation for higher-level libraries like Seaborn"
   ]
  },
  {
   "cell_type": "markdown",
   "id": "b708aa02-78e0-41eb-b340-4995156ad623",
   "metadata": {},
   "source": [
    "<h3 style=\"face:gotham;color:orange\">Where Matplotlib Fits in the Python Visualization Ecosystem</h3> \n",
    "\n",
    "Matplotlib serves as the foundation for many Python visualization tools. While newer libraries offer more specialized or interactive features, Matplotlib remains essential for:\n",
    "\n",
    "- Scientific publications requiring precise control\n",
    "- Custom visualization development\n",
    "- Learning fundamental visualization concepts\n",
    "- Cases where simplicity and reliability are priorities"
   ]
  },
  {
   "cell_type": "markdown",
   "id": "592ff992-a36c-464d-bbac-7d6028efb59d",
   "metadata": {},
   "source": [
    "<h2 style=\"face:gotham;color:blue\">Installation and Dependencies</h2> "
   ]
  },
  {
   "cell_type": "code",
   "execution_count": 3,
   "id": "22361b88-314a-4075-826f-f9979124b5a7",
   "metadata": {
    "tags": []
   },
   "outputs": [
    {
     "name": "stdout",
     "output_type": "stream",
     "text": [
      "Matplotlib version: 3.10.0\n"
     ]
    }
   ],
   "source": [
    "# Display Matplotlib version\n",
    "print(f\"Matplotlib version: {matplotlib.__version__}\")"
   ]
  },
  {
   "cell_type": "markdown",
   "id": "eac48e70-2a57-4513-b45d-208afd13b62a",
   "metadata": {
    "tags": []
   },
   "source": [
    "<h3 style=\"face:gotham;color:orange\">Installation Methods</h3> \n",
    "\n",
    "\n",
    "Matplotlib can be installed using several package managers:\n",
    "\n",
    "```bash\n",
    "# Using pip\n",
    "pip install matplotlib\n",
    "\n",
    "# Using conda\n",
    "conda install matplotlib\n",
    "\n",
    "# Using mamba (faster conda alternative)\n",
    "mamba install matplotlib\n",
    "```"
   ]
  },
  {
   "cell_type": "markdown",
   "id": "74901b6c-353f-45e9-810e-c296d3453812",
   "metadata": {},
   "source": [
    "### Core Dependencies\n",
    "\n",
    "Matplotlib has several dependencies that are typically installed automatically:\n",
    "\n",
    "- **NumPy**: For numerical computations\n",
    "- **Pillow**: For image manipulation\n",
    "- **Python-dateutil**: For date handling\n",
    "- **Pyparsing**: For parsing tasks\n",
    "- **Cycler**: For color cycling operations\n",
    "\n",
    "### Optional Dependencies\n",
    "\n",
    "Depending on your needs, you might want to install additional packages:\n",
    "\n",
    "```bash\n",
    "# For saving to PDF format\n",
    "pip install kaleido\n",
    "\n",
    "# For high-quality vector graphics\n",
    "pip install svglib\n",
    "\n",
    "# For interactive features\n",
    "pip install ipympl\n",
    "```"
   ]
  },
  {
   "cell_type": "markdown",
   "id": "dc747f77-26ae-41d8-93be-878004e31df5",
   "metadata": {},
   "source": [
    "## 3. Library Architecture Overview\n",
    "\n",
    "\n",
    "Matplotlib's architecture consists of three main layers:\n",
    "\n",
    "![Matplotlib Architecture](https://matplotlib.org/stable/_images/anatomy.png)\n",
    "\n",
    "### Backend Layer\n",
    "\n",
    "The backend layer handles rendering to different outputs:\n",
    "\n",
    "- **Non-interactive backends** (PDF, SVG, PNG, etc.)\n",
    "- **Interactive backends** (Qt, GTK, Tk, etc.)\n",
    "\n",
    "```python\n",
    "# Example of changing the backend\n",
    "import matplotlib\n",
    "matplotlib.use('Agg')  # Non-interactive backend for saving files\n",
    "```"
   ]
  },
  {
   "cell_type": "markdown",
   "id": "bc362a42-cbb2-46f7-9c27-7d3cab003766",
   "metadata": {},
   "source": [
    "### Artist Layer\n",
    "\n",
    "The Artist layer contains everything visible on the figure:\n",
    "\n",
    "- **Primitive artists**: Lines, rectangles, text, etc.\n",
    "- **Composite artists**: Figures, Axes, Axis, etc.\n",
    "\n",
    "### Scripting Layer\n",
    "\n",
    "The top layer provides simplified interfaces for creating figures:\n",
    "\n",
    "- **pyplot**: Stateful interface similar to MATLAB\n",
    "- **Object-oriented API**: Direct control over figure elements"
   ]
  },
  {
   "cell_type": "code",
   "execution_count": 6,
   "id": "ae57bfaf-a1f3-40bd-9c71-690272e178ac",
   "metadata": {
    "tags": []
   },
   "outputs": [
    {
     "name": "stdout",
     "output_type": "stream",
     "text": [
      "Current backend: module://matplotlib_inline.backend_inline\n",
      "\n",
      "Available non-interactive backends:\n",
      "['agg', 'cairo', 'pdf', 'pgf', 'ps', 'svg', 'template']\n"
     ]
    }
   ],
   "source": [
    "# Demonstrate the architecture with information about the current backend\n",
    "print(f\"Current backend: {matplotlib.get_backend()}\")\n",
    "\n",
    "# List available backends\n",
    "print(\"\\nAvailable non-interactive backends:\")\n",
    "non_interactive = [b for b in matplotlib.rcsetup.non_interactive_bk]\n",
    "print(non_interactive)"
   ]
  },
  {
   "cell_type": "code",
   "execution_count": 7,
   "id": "40d20551-d965-4dff-8c68-2641148428dc",
   "metadata": {
    "tags": []
   },
   "outputs": [
    {
     "name": "stdout",
     "output_type": "stream",
     "text": [
      "\n",
      "Available interactive backends:\n",
      "['gtk3agg', 'gtk3cairo', 'gtk4agg', 'gtk4cairo', 'macosx', 'nbagg', 'notebook', 'qtagg', 'qtcairo', 'qt5agg', 'qt5cairo', 'tkagg', 'tkcairo', 'webagg', 'wx', 'wxagg', 'wxcairo']\n"
     ]
    }
   ],
   "source": [
    "print(\"\\nAvailable interactive backends:\")\n",
    "interactive = [b for b in matplotlib.rcsetup.interactive_bk]\n",
    "print(interactive)"
   ]
  },
  {
   "cell_type": "markdown",
   "id": "f0ca03d7-49df-44dc-a929-9cf6845233c3",
   "metadata": {},
   "source": [
    "## 4. Pyplot vs Object-Oriented Interfaces\n",
    "\n",
    "Matplotlib offers two main interfaces for creating visualizations:"
   ]
  },
  {
   "cell_type": "code",
   "execution_count": 8,
   "id": "480317b5-4fd8-484d-92aa-fa605fe24a57",
   "metadata": {
    "tags": []
   },
   "outputs": [],
   "source": [
    "# Create a simple example to demonstrate both approaches\n",
    "import matplotlib.pyplot as plt\n",
    "import numpy as np\n",
    "\n",
    "# Generate some data\n",
    "x = np.linspace(0, 10, 100)\n",
    "y = np.sin(x)"
   ]
  },
  {
   "cell_type": "markdown",
   "id": "2d64fea9-cdec-487b-9694-fb2249ffe2cc",
   "metadata": {},
   "source": [
    "### Pyplot Interface\n",
    "\n",
    "The `pyplot` interface provides a MATLAB-like, state-based interface which is quick and easy for simple plots."
   ]
  },
  {
   "cell_type": "code",
   "execution_count": 9,
   "id": "c2622da6-bb2c-4ad1-97b5-9c1311ca3ff6",
   "metadata": {
    "tags": []
   },
   "outputs": [
    {
     "data": {
      "image/png": "[encoded data removed]",
      "text/plain": [
       "<Figure size 1000x400 with 1 Axes>"
      ]
     },
     "metadata": {},
     "output_type": "display_data"
    }
   ],
   "source": [
    "# Pyplot approach\n",
    "plt.figure(figsize=(10, 4))\n",
    "plt.plot(x, y, 'b-', label='sin(x)')\n",
    "plt.title('Pyplot Interface Example')\n",
    "plt.xlabel('x')\n",
    "plt.ylabel('sin(x)')\n",
    "plt.grid(True)\n",
    "plt.legend()\n",
    "plt.show()"
   ]
  },
  {
   "cell_type": "markdown",
   "id": "2e4b3b5b-9cf4-4326-a699-ef9cbaca7b00",
   "metadata": {
    "tags": []
   },
   "source": [
    "### Object-Oriented Interface\n",
    "\n",
    "The object-oriented (OO) interface provides more fine-grained control and is better for complex figures or embedding in applications."
   ]
  },
  {
   "cell_type": "code",
   "execution_count": 11,
   "id": "a8d16bcf-bc06-4e64-a5d4-0225cae06c8d",
   "metadata": {
    "tags": []
   },
   "outputs": [
    {
     "data": {
      "image/png": "[encoded data removed]",
      "text/plain": [
       "<Figure size 1000x400 with 1 Axes>"
      ]
     },
     "metadata": {},
     "output_type": "display_data"
    }
   ],
   "source": [
    "# Object-oriented approach\n",
    "fig, ax = plt.subplots(figsize=(10, 4))\n",
    "ax.plot(x, y, 'r-', label='sin(x)')\n",
    "ax.set_title('Object-Oriented Interface Example')\n",
    "ax.set_xlabel('x')\n",
    "ax.set_ylabel('sin(x)')\n",
    "ax.grid(True)\n",
    "ax.legend()\n",
    "plt.show()"
   ]
  },
  {
   "cell_type": "markdown",
   "id": "9fab6314-120f-4ebc-92f8-0a315e137223",
   "metadata": {},
   "source": [
    "### Comparing the Two Approaches\n",
    "\n",
    "| Feature | Pyplot | Object-Oriented |\n",
    "|---------|--------|-----------------|\n",
    "| Learning curve | Gentler | Steeper |\n",
    "| Use case | Quick plots, exploration | Complex figures, applications |\n",
    "| Control | Limited | Complete |\n",
    "| State management | Implicit (can cause issues) | Explicit (clearer) |\n",
    "| Multiple figures | More complex | Natural |\n",
    "\n",
    "**Recommendation**: \n",
    "- Use pyplot for simple, quick visualizations and learning\n",
    "- Use the object-oriented approach for complex, production-quality visualizations\n",
    "\n",
    "\n",
    "## 5. Version History and Compatibility Notes\n",
    "\n",
    "### Major Versions and Changes\n",
    "\n",
    "Matplotlib has evolved significantly over time:\n",
    "\n",
    "- **Matplotlib 1.x**: Foundation of modern Matplotlib\n",
    "- **Matplotlib 2.0** (2017): Major style overhaul, improved defaults\n",
    "- **Matplotlib 3.0** (2018): Python 3 only, dropped Python 2 support\n",
    "- **Matplotlib 3.3+**: Enhanced 3D plotting, constrained layout improvements\n",
    "- **Matplotlib 3.5+**: Added new colormaps, improved accessibility features\n",
    "- **Matplotlib 3.7+**: Expanded styling options, improved plot types"
   ]
  },
  {
   "cell_type": "markdown",
   "id": "f1f2f91c-621c-4e73-b1dd-7d34de42583e",
   "metadata": {},
   "source": [
    "### Recent Features\n",
    "\n",
    "Recent versions have introduced:\n",
    "\n",
    "- Better default styles for more attractive plots\n",
    "- Improved color maps for better data representation\n",
    "- Enhanced accessibility features\n",
    "- Better support for high-DPI displays\n",
    "- Improved text rendering and LaTeX support\n",
    "- Enhanced integration with Jupyter notebooks"
   ]
  },
  {
   "cell_type": "code",
   "execution_count": 20,
   "id": "d1f36d10-9cfa-40b7-a478-42c8d7b93819",
   "metadata": {
    "tags": []
   },
   "outputs": [
    {
     "name": "stdout",
     "output_type": "stream",
     "text": [
      "Matplotlib     : 3.10.0\n",
      "Python         : 3.12.2\n",
      "NumPy          : 1.26.4\n",
      "Backend        : module://matplotlib_inline.backend_inline\n"
     ]
    }
   ],
   "source": [
    "# Display version information in more detail\n",
    "import sys\n",
    "version_info = {\n",
    "    'Matplotlib': matplotlib.__version__,\n",
    "    'Python': sys.version.split()[0], \n",
    "    'NumPy': np.__version__,\n",
    "    'Backend': matplotlib.get_backend()\n",
    "}\n",
    "\n",
    "for name, version in version_info.items():\n",
    "    print(f\"{name:<15}: {version}\")"
   ]
  },
  {
   "cell_type": "markdown",
   "id": "f73c85db-60ac-4786-a619-91ce9be561fe",
   "metadata": {
    "tags": []
   },
   "source": [
    "### Compatibility Considerations\n",
    "\n",
    "When working with Matplotlib, consider:\n",
    "\n",
    "- **API stability**: Matplotlib prioritizes backward compatibility\n",
    "- **Deprecation warnings**: Pay attention to these for future-proof code\n",
    "- **Dependencies**: Check requirements, especially for specialized features\n",
    "- **Environment**: Different environments may use different backends by default\n",
    "\n",
    "### Recommended Practices\n",
    "\n",
    "- Explicitly import matplotlib.pyplot as plt and numpy as np\n",
    "- Use semantic versioning in requirements (e.g., matplotlib>=3.5.0)\n",
    "- Check documentation for version-specific features\n",
    "- Set the style at the beginning of your notebook/script\n",
    "- Consider using style sheets for consistent visuals"
   ]
  },
  {
   "cell_type": "code",
   "execution_count": 18,
   "id": "56dde75d-ce7c-4626-8758-c1d7f2a286dc",
   "metadata": {
    "tags": []
   },
   "outputs": [
    {
     "name": "stdout",
     "output_type": "stream",
     "text": [
      "Available style sheets:\n",
      "Style Name:          Solarize_Light2\n",
      "Style Name:          _classic_test_patch\n",
      "Style Name:          _mpl-gallery\n",
      "Style Name:          _mpl-gallery-nogrid\n",
      "Style Name:          bmh\n",
      "Style Name:          classic\n",
      "Style Name:          dark_background\n",
      "Style Name:          fast\n",
      "Style Name:          fivethirtyeight\n",
      "Style Name:          ggplot\n",
      "Style Name:          grayscale\n",
      "Style Name:          petroff10\n",
      "Style Name:          seaborn-v0_8\n",
      "Style Name:          seaborn-v0_8-bright\n",
      "Style Name:          seaborn-v0_8-colorblind\n",
      "Style Name:          seaborn-v0_8-dark\n",
      "Style Name:          seaborn-v0_8-dark-palette\n",
      "Style Name:          seaborn-v0_8-darkgrid\n",
      "Style Name:          seaborn-v0_8-deep\n",
      "Style Name:          seaborn-v0_8-muted\n",
      "Style Name:          seaborn-v0_8-notebook\n",
      "Style Name:          seaborn-v0_8-paper\n",
      "Style Name:          seaborn-v0_8-pastel\n",
      "Style Name:          seaborn-v0_8-poster\n",
      "Style Name:          seaborn-v0_8-talk\n",
      "Style Name:          seaborn-v0_8-ticks\n",
      "Style Name:          seaborn-v0_8-white\n",
      "Style Name:          seaborn-v0_8-whitegrid\n",
      "Style Name:          tableau-colorblind10\n"
     ]
    }
   ],
   "source": [
    "# Show available style sheets\n",
    "print(\"Available style sheets:\")\n",
    "for style_name in plt.style.available:\n",
    "    print(f\"{'Style Name:':<20} {style_name}\")"
   ]
  },
  {
   "cell_type": "markdown",
   "id": "860e4d3f-be3a-4b06-890e-7a2f2e9a51c0",
   "metadata": {},
   "source": [
    "## Summary\n",
    "\n",
    "In this notebook, we've introduced Matplotlib as the foundational data visualization library in Python.\n",
    "\n",
    "We've covered:\n",
    "- What Matplotlib is and its role in the Python ecosystem\n",
    "- How to install Matplotlib and its dependencies\n",
    "- The three-layer architecture of the library\n",
    "- The two main interfaces: pyplot and object-oriented\n",
    "- Version history and compatibility considerations\n",
    "\n",
    "In the next notebook, we'll dive deeper into creating basic plots with Matplotlib, including line plots, scatter plots, and bar charts."
   ]
  },
  {
   "cell_type": "code",
   "execution_count": null,
   "id": "15c78299-2cfa-4bff-935c-a791d7ab4c18",
   "metadata": {},
   "outputs": [],
   "source": []
  }
 ],
 "metadata": {
  "kernelspec": {
   "display_name": "ML-ENV-Py-3.12",
   "language": "python",
   "name": "mlenv"
  },
  "language_info": {
   "codemirror_mode": {
    "name": "ipython",
    "version": 3
   },
   "file_extension": ".py",
   "mimetype": "text/x-python",
   "name": "python",
   "nbconvert_exporter": "python",
   "pygments_lexer": "ipython3",
   "version": "3.12.2"
  }
 },
 "nbformat": 4,
 "nbformat_minor": 5
}
